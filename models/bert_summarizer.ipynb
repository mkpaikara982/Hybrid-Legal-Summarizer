{
 "cells": [
  {
   "cell_type": "code",
   "execution_count": 12,
   "metadata": {},
   "outputs": [],
   "source": [
    "import pandas as pd\n",
    "from summarizer import Summarizer\n",
    "from datasets import load_dataset\n",
    "from rouge_score import rouge_scorer\n",
    "import csv"
   ]
  },
  {
   "cell_type": "code",
   "execution_count": 13,
   "metadata": {},
   "outputs": [],
   "source": [
    "#Initialize the dataset\n",
    "multi_lexsum = load_dataset(\"allenai/multi_lexsum\", name=\"v20230518\")\n",
    "validation = list(multi_lexsum[\"validation\"])"
   ]
  },
  {
   "cell_type": "code",
   "execution_count": 14,
   "metadata": {},
   "outputs": [],
   "source": [
    "# Initialize BERT summarizer model\n",
    "model = Summarizer()\n"
   ]
  },
  {
   "cell_type": "code",
   "execution_count": 15,
   "metadata": {},
   "outputs": [],
   "source": [
    "#importing generated summary rogue score\n",
    "generated_score = pd.read_csv(\"rogue_score_openai.csv\")\n",
    "case_list = generated_score[\"Case_ID\"]"
   ]
  },
  {
   "cell_type": "code",
   "execution_count": 16,
   "metadata": {},
   "outputs": [],
   "source": [
    "#get refrence summary\n",
    "def get_summary_long(target_id):\n",
    "    # Iterate over each entry in the 'validation' list\n",
    "    for entry in validation:\n",
    "        # Check if the 'id' key in the entry matches the 'target_id'\n",
    "        if entry['id'] == target_id:\n",
    "            # Return the long summary from the matching entry\n",
    "            return entry['summary/long']\n",
    "    # Optional: Return a message if no matching entry is found\n",
    "    return \"No summary found for the given ID.\""
   ]
  },
  {
   "cell_type": "code",
   "execution_count": 17,
   "metadata": {},
   "outputs": [],
   "source": [
    "#get full text\n",
    "def get_full_text(target_id):\n",
    "    # Iterate over each entry in the 'validation' list\n",
    "    for entry in validation:\n",
    "        # Check if the 'id' key in the entry matches the 'target_id'\n",
    "        if entry['id'] == target_id:\n",
    "            # Return the long summary from the matching entry\n",
    "            return entry['sources']\n",
    "    # Optional: Return a message if no matching entry is found\n",
    "    return \"No summary found for the given ID.\""
   ]
  },
  {
   "cell_type": "code",
   "execution_count": 18,
   "metadata": {},
   "outputs": [],
   "source": [
    "def process(iteration, csv_file_path='bert_summary_rogue.csv'):\n",
    "    full_text = str(get_full_text(case_list[iteration]))\n",
    "\n",
    "   # Check if the length of the text exceeds 800,000 characters\n",
    "    if len(full_text) > 800000:\n",
    "        data = {\n",
    "            'Case_ID': case_list[iteration],\n",
    "            'refrence_summary': 'Limit_Exceeded',\n",
    "            'generated_summary': 'Limit_Exceeded',\n",
    "            'ROUGE-1_Precision': 'Limit_Exceeded',\n",
    "            'ROUGE-1_Recall': 'Limit_Exceeded',\n",
    "            'ROUGE-1_F1': 'Limit_Exceeded',\n",
    "            'ROUGE-2_Precision': 'Limit_Exceeded',\n",
    "            'ROUGE-2_Recall': 'Limit_Exceeded',\n",
    "            'ROUGE-2_F1': 'Limit_Exceeded',\n",
    "            'ROUGE-L_Precision': 'Limit_Exceeded',\n",
    "            'ROUGE-L_Recall': 'Limit_Exceeded',\n",
    "            'ROUGE-L_F1': 'Limit_Exceeded'\n",
    "        }\n",
    "    else:\n",
    "        refrence_summary = get_summary_long(case_list[iteration])\n",
    "        # Generate summary using BERT\n",
    "        generated_summary = model(full_text, num_sentences=50)\n",
    "\n",
    "        # Initialize ROUGE scorer\n",
    "        scorer = rouge_scorer.RougeScorer(['rouge1', 'rouge2', 'rougeL'], use_stemmer=True)\n",
    "        score = scorer.score(generated_summary, refrence_summary)\n",
    "\n",
    "        data = {\n",
    "            'Case_ID': case_list[iteration],\n",
    "            'refrence_summary': refrence_summary,\n",
    "            'generated_summary': generated_summary,\n",
    "            'ROUGE-1_Precision': round(score['rouge1'].precision, 4),\n",
    "            'ROUGE-1_Recall': round(score['rouge1'].recall, 4),\n",
    "            'ROUGE-1_F1': round(score['rouge1'].fmeasure, 4),\n",
    "            'ROUGE-2_Precision': round(score['rouge2'].precision, 4),\n",
    "            'ROUGE-2_Recall': round(score['rouge2'].recall, 4),\n",
    "            'ROUGE-2_F1': round(score['rouge2'].fmeasure, 4),\n",
    "            'ROUGE-L_Precision': round(score['rougeL'].precision, 4),\n",
    "            'ROUGE-L_Recall': round(score['rougeL'].recall, 4),\n",
    "            'ROUGE-L_F1': round(score['rougeL'].fmeasure, 4)\n",
    "        }\n",
    "\n",
    "    # Write data to CSV\n",
    "    with open(csv_file_path, 'a', newline='') as csvfile:\n",
    "        fieldnames = [\n",
    "            'Case_ID', 'refrence_summary', 'generated_summary',\n",
    "            'ROUGE-1_Precision', 'ROUGE-1_Recall', 'ROUGE-1_F1',\n",
    "            'ROUGE-2_Precision', 'ROUGE-2_Recall', 'ROUGE-2_F1',\n",
    "            'ROUGE-L_Precision', 'ROUGE-L_Recall', 'ROUGE-L_F1',\n",
    "        ]\n",
    "        writer = csv.DictWriter(csvfile, fieldnames=fieldnames)\n",
    "        writer.writerow(data)"
   ]
  },
  {
   "cell_type": "code",
   "execution_count": 9,
   "metadata": {},
   "outputs": [],
   "source": [
    "# process(57)"
   ]
  },
  {
   "cell_type": "code",
   "execution_count": 19,
   "metadata": {},
   "outputs": [
    {
     "data": {
      "text/plain": [
       "'EE-CA-0352'"
      ]
     },
     "execution_count": 19,
     "metadata": {},
     "output_type": "execute_result"
    }
   ],
   "source": [
    "case_list[189]"
   ]
  },
  {
   "cell_type": "code",
   "execution_count": null,
   "metadata": {},
   "outputs": [],
   "source": [
    "#run the process for set number of iteration\n",
    "for i in range(0, len(case_list)):\n",
    "    print(i)\n",
    "    process(i)\n"
   ]
  }
 ],
 "metadata": {
  "kernelspec": {
   "display_name": "capstone",
   "language": "python",
   "name": "python3"
  },
  "language_info": {
   "codemirror_mode": {
    "name": "ipython",
    "version": 3
   },
   "file_extension": ".py",
   "mimetype": "text/x-python",
   "name": "python",
   "nbconvert_exporter": "python",
   "pygments_lexer": "ipython3",
   "version": "3.12.2"
  }
 },
 "nbformat": 4,
 "nbformat_minor": 2
}
